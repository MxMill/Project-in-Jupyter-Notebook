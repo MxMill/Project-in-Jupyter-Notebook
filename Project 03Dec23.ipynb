{
 "cells": [
  {
   "cell_type": "code",
   "execution_count": 1,
   "id": "ed82ce64",
   "metadata": {},
   "outputs": [],
   "source": [
    "import pandas as pd\n",
    "import numpy as np\n",
    "import matplotlib.pyplot as plt\n",
    "import seaborn as sns"
   ]
  },
  {
   "cell_type": "code",
   "execution_count": 2,
   "id": "d15685c4",
   "metadata": {},
   "outputs": [],
   "source": [
    "homes = pd.read_excel(\"Homes for Sale and Real Estate.xlsx\")"
   ]
  },
  {
   "cell_type": "code",
   "execution_count": 3,
   "id": "f28c19eb",
   "metadata": {},
   "outputs": [],
   "source": [
    "df = homes.copy()"
   ]
  },
  {
   "cell_type": "code",
   "execution_count": 4,
   "id": "b2716e16",
   "metadata": {},
   "outputs": [
    {
     "data": {
      "text/html": [
       "<div>\n",
       "<style scoped>\n",
       "    .dataframe tbody tr th:only-of-type {\n",
       "        vertical-align: middle;\n",
       "    }\n",
       "\n",
       "    .dataframe tbody tr th {\n",
       "        vertical-align: top;\n",
       "    }\n",
       "\n",
       "    .dataframe thead th {\n",
       "        text-align: right;\n",
       "    }\n",
       "</style>\n",
       "<table border=\"1\" class=\"dataframe\">\n",
       "  <thead>\n",
       "    <tr style=\"text-align: right;\">\n",
       "      <th></th>\n",
       "      <th>Address</th>\n",
       "      <th>Price</th>\n",
       "      <th>Description</th>\n",
       "      <th>Place</th>\n",
       "      <th>Beds</th>\n",
       "      <th>Bath</th>\n",
       "      <th>Sq.Ft</th>\n",
       "      <th>Website</th>\n",
       "    </tr>\n",
       "  </thead>\n",
       "  <tbody>\n",
       "    <tr>\n",
       "      <th>0</th>\n",
       "      <td>3704 42 St SW</td>\n",
       "      <td>979999</td>\n",
       "      <td>CA  AB T3E 3N1</td>\n",
       "      <td>Glenbrook</td>\n",
       "      <td>4</td>\n",
       "      <td>3.5</td>\n",
       "      <td>1813</td>\n",
       "      <td>Century 21 Bravo Realty</td>\n",
       "    </tr>\n",
       "    <tr>\n",
       "      <th>1</th>\n",
       "      <td>30 Mahogany Mews SE #415</td>\n",
       "      <td>439900</td>\n",
       "      <td>CA  AB T3M 3H4</td>\n",
       "      <td>Mahogany</td>\n",
       "      <td>2</td>\n",
       "      <td>2.0</td>\n",
       "      <td>1029</td>\n",
       "      <td>Century 21 Bamber Realty Ltd.</td>\n",
       "    </tr>\n",
       "    <tr>\n",
       "      <th>2</th>\n",
       "      <td>273 Auburn Shores Way SE</td>\n",
       "      <td>950000</td>\n",
       "      <td>CA  AB T3M 2E9</td>\n",
       "      <td>Auburn Bay</td>\n",
       "      <td>4</td>\n",
       "      <td>2.5</td>\n",
       "      <td>2545</td>\n",
       "      <td>Exp Realty</td>\n",
       "    </tr>\n",
       "    <tr>\n",
       "      <th>3</th>\n",
       "      <td>235 15 Ave SW #404</td>\n",
       "      <td>280000</td>\n",
       "      <td>CA  AB T2R 0P6</td>\n",
       "      <td>Beltline</td>\n",
       "      <td>2</td>\n",
       "      <td>2.0</td>\n",
       "      <td>898</td>\n",
       "      <td>RE/MAX Realty Professionals</td>\n",
       "    </tr>\n",
       "    <tr>\n",
       "      <th>4</th>\n",
       "      <td>24 Hemlock Crescent SW #2308</td>\n",
       "      <td>649000</td>\n",
       "      <td>CA  AB T3C 2Z1</td>\n",
       "      <td>Spruce Cliff</td>\n",
       "      <td>2</td>\n",
       "      <td>2.0</td>\n",
       "      <td>1482</td>\n",
       "      <td>Charles</td>\n",
       "    </tr>\n",
       "    <tr>\n",
       "      <th>...</th>\n",
       "      <td>...</td>\n",
       "      <td>...</td>\n",
       "      <td>...</td>\n",
       "      <td>...</td>\n",
       "      <td>...</td>\n",
       "      <td>...</td>\n",
       "      <td>...</td>\n",
       "      <td>...</td>\n",
       "    </tr>\n",
       "    <tr>\n",
       "      <th>3355</th>\n",
       "      <td>203 17 Ave NE</td>\n",
       "      <td>799000</td>\n",
       "      <td>CA  AB T2E 1L9</td>\n",
       "      <td>Tuxedo Park</td>\n",
       "      <td>3</td>\n",
       "      <td>2.0</td>\n",
       "      <td>869</td>\n",
       "      <td>RE/MAX Real Estate (Central)</td>\n",
       "    </tr>\n",
       "    <tr>\n",
       "      <th>3356</th>\n",
       "      <td>4111 162 Ave SW</td>\n",
       "      <td>8000000</td>\n",
       "      <td>CA  AB T2Y 0N7</td>\n",
       "      <td>NaN</td>\n",
       "      <td>5</td>\n",
       "      <td>4.5</td>\n",
       "      <td>9031</td>\n",
       "      <td>Diamond Realty &amp; Associates Ltd.</td>\n",
       "    </tr>\n",
       "    <tr>\n",
       "      <th>3357</th>\n",
       "      <td>289 Sage Hill Circle NW</td>\n",
       "      <td>595000</td>\n",
       "      <td>CA  AB T3R 1V2</td>\n",
       "      <td>Sage Hill</td>\n",
       "      <td>3</td>\n",
       "      <td>2.5</td>\n",
       "      <td>1733</td>\n",
       "      <td>RE/MAX House Of Real Estate</td>\n",
       "    </tr>\n",
       "    <tr>\n",
       "      <th>3358</th>\n",
       "      <td>738 1 Ave SW #1307</td>\n",
       "      <td>7988000</td>\n",
       "      <td>CA  AB T2P 5G8</td>\n",
       "      <td>Eau Claire</td>\n",
       "      <td>2</td>\n",
       "      <td>2.5</td>\n",
       "      <td>3544</td>\n",
       "      <td>RE/MAX Real Estate (Central)</td>\n",
       "    </tr>\n",
       "    <tr>\n",
       "      <th>3359</th>\n",
       "      <td>1709 32 St SW</td>\n",
       "      <td>795000</td>\n",
       "      <td>CA  AB T3C 1N6</td>\n",
       "      <td>Shaganappi</td>\n",
       "      <td>6</td>\n",
       "      <td>2.0</td>\n",
       "      <td>983</td>\n",
       "      <td>Maxwell Capital Realty</td>\n",
       "    </tr>\n",
       "  </tbody>\n",
       "</table>\n",
       "<p>3360 rows × 8 columns</p>\n",
       "</div>"
      ],
      "text/plain": [
       "                           Address    Price     Description         Place  \\\n",
       "0                    3704 42 St SW   979999  CA  AB T3E 3N1     Glenbrook   \n",
       "1         30 Mahogany Mews SE #415   439900  CA  AB T3M 3H4      Mahogany   \n",
       "2         273 Auburn Shores Way SE   950000  CA  AB T3M 2E9    Auburn Bay   \n",
       "3               235 15 Ave SW #404   280000  CA  AB T2R 0P6      Beltline   \n",
       "4     24 Hemlock Crescent SW #2308   649000  CA  AB T3C 2Z1  Spruce Cliff   \n",
       "...                            ...      ...             ...           ...   \n",
       "3355                 203 17 Ave NE   799000  CA  AB T2E 1L9   Tuxedo Park   \n",
       "3356               4111 162 Ave SW  8000000  CA  AB T2Y 0N7           NaN   \n",
       "3357       289 Sage Hill Circle NW   595000  CA  AB T3R 1V2     Sage Hill   \n",
       "3358            738 1 Ave SW #1307  7988000  CA  AB T2P 5G8    Eau Claire   \n",
       "3359                 1709 32 St SW   795000  CA  AB T3C 1N6    Shaganappi   \n",
       "\n",
       "      Beds  Bath  Sq.Ft                           Website  \n",
       "0        4   3.5   1813           Century 21 Bravo Realty  \n",
       "1        2   2.0   1029     Century 21 Bamber Realty Ltd.  \n",
       "2        4   2.5   2545                        Exp Realty  \n",
       "3        2   2.0    898       RE/MAX Realty Professionals  \n",
       "4        2   2.0   1482                           Charles  \n",
       "...    ...   ...    ...                               ...  \n",
       "3355     3   2.0    869      RE/MAX Real Estate (Central)  \n",
       "3356     5   4.5   9031  Diamond Realty & Associates Ltd.  \n",
       "3357     3   2.5   1733       RE/MAX House Of Real Estate  \n",
       "3358     2   2.5   3544      RE/MAX Real Estate (Central)  \n",
       "3359     6   2.0    983            Maxwell Capital Realty  \n",
       "\n",
       "[3360 rows x 8 columns]"
      ]
     },
     "execution_count": 4,
     "metadata": {},
     "output_type": "execute_result"
    }
   ],
   "source": [
    "df"
   ]
  },
  {
   "cell_type": "code",
   "execution_count": 5,
   "id": "dbd60000",
   "metadata": {},
   "outputs": [
    {
     "name": "stdout",
     "output_type": "stream",
     "text": [
      "<class 'pandas.core.frame.DataFrame'>\n",
      "RangeIndex: 3360 entries, 0 to 3359\n",
      "Data columns (total 8 columns):\n",
      " #   Column       Non-Null Count  Dtype  \n",
      "---  ------       --------------  -----  \n",
      " 0   Address      3360 non-null   object \n",
      " 1   Price        3360 non-null   int64  \n",
      " 2   Description  3360 non-null   object \n",
      " 3   Place        3344 non-null   object \n",
      " 4   Beds         3360 non-null   int64  \n",
      " 5   Bath         3360 non-null   float64\n",
      " 6   Sq.Ft        3360 non-null   int64  \n",
      " 7   Website      3359 non-null   object \n",
      "dtypes: float64(1), int64(3), object(4)\n",
      "memory usage: 210.1+ KB\n"
     ]
    }
   ],
   "source": [
    "df.info()"
   ]
  },
  {
   "cell_type": "code",
   "execution_count": 6,
   "id": "0426bb73",
   "metadata": {},
   "outputs": [
    {
     "data": {
      "text/plain": [
       "0"
      ]
     },
     "execution_count": 6,
     "metadata": {},
     "output_type": "execute_result"
    }
   ],
   "source": [
    "# Check for duplicate values\n",
    "df.duplicated().sum()"
   ]
  },
  {
   "cell_type": "code",
   "execution_count": 7,
   "id": "c1740e2b",
   "metadata": {},
   "outputs": [
    {
     "data": {
      "text/html": [
       "<div>\n",
       "<style scoped>\n",
       "    .dataframe tbody tr th:only-of-type {\n",
       "        vertical-align: middle;\n",
       "    }\n",
       "\n",
       "    .dataframe tbody tr th {\n",
       "        vertical-align: top;\n",
       "    }\n",
       "\n",
       "    .dataframe thead th {\n",
       "        text-align: right;\n",
       "    }\n",
       "</style>\n",
       "<table border=\"1\" class=\"dataframe\">\n",
       "  <thead>\n",
       "    <tr style=\"text-align: right;\">\n",
       "      <th></th>\n",
       "      <th>Address</th>\n",
       "      <th>Price</th>\n",
       "      <th>Description</th>\n",
       "      <th>Place</th>\n",
       "      <th>Beds</th>\n",
       "      <th>Bath</th>\n",
       "      <th>Sq.Ft</th>\n",
       "      <th>Website</th>\n",
       "    </tr>\n",
       "  </thead>\n",
       "  <tbody>\n",
       "    <tr>\n",
       "      <th>0</th>\n",
       "      <td>3704 42 St SW</td>\n",
       "      <td>979999</td>\n",
       "      <td>CA  AB T3E 3N1</td>\n",
       "      <td>Glenbrook</td>\n",
       "      <td>4</td>\n",
       "      <td>3.5</td>\n",
       "      <td>1813</td>\n",
       "      <td>Century 21 Bravo Realty</td>\n",
       "    </tr>\n",
       "  </tbody>\n",
       "</table>\n",
       "</div>"
      ],
      "text/plain": [
       "         Address   Price     Description      Place  Beds  Bath  Sq.Ft  \\\n",
       "0  3704 42 St SW  979999  CA  AB T3E 3N1  Glenbrook     4   3.5   1813   \n",
       "\n",
       "                   Website  \n",
       "0  Century 21 Bravo Realty  "
      ]
     },
     "execution_count": 7,
     "metadata": {},
     "output_type": "execute_result"
    }
   ],
   "source": [
    "df.head(1)"
   ]
  },
  {
   "cell_type": "code",
   "execution_count": 8,
   "id": "86c5c69c",
   "metadata": {},
   "outputs": [
    {
     "data": {
      "text/plain": [
       "16"
      ]
     },
     "execution_count": 8,
     "metadata": {},
     "output_type": "execute_result"
    }
   ],
   "source": [
    "df['Place'].isnull().sum()"
   ]
  },
  {
   "cell_type": "code",
   "execution_count": 9,
   "id": "445f0f89",
   "metadata": {},
   "outputs": [
    {
     "data": {
      "text/plain": [
       "1"
      ]
     },
     "execution_count": 9,
     "metadata": {},
     "output_type": "execute_result"
    }
   ],
   "source": [
    "df['Website'].isnull().sum()"
   ]
  },
  {
   "cell_type": "code",
   "execution_count": 10,
   "id": "c732def4",
   "metadata": {},
   "outputs": [],
   "source": [
    "df.drop(columns='Place', inplace=True)"
   ]
  },
  {
   "cell_type": "code",
   "execution_count": 11,
   "id": "cd4eb01f",
   "metadata": {},
   "outputs": [
    {
     "data": {
      "text/html": [
       "<div>\n",
       "<style scoped>\n",
       "    .dataframe tbody tr th:only-of-type {\n",
       "        vertical-align: middle;\n",
       "    }\n",
       "\n",
       "    .dataframe tbody tr th {\n",
       "        vertical-align: top;\n",
       "    }\n",
       "\n",
       "    .dataframe thead th {\n",
       "        text-align: right;\n",
       "    }\n",
       "</style>\n",
       "<table border=\"1\" class=\"dataframe\">\n",
       "  <thead>\n",
       "    <tr style=\"text-align: right;\">\n",
       "      <th></th>\n",
       "      <th>Address</th>\n",
       "      <th>Price</th>\n",
       "      <th>Description</th>\n",
       "      <th>Beds</th>\n",
       "      <th>Bath</th>\n",
       "      <th>Sq.Ft</th>\n",
       "      <th>Website</th>\n",
       "    </tr>\n",
       "  </thead>\n",
       "  <tbody>\n",
       "    <tr>\n",
       "      <th>0</th>\n",
       "      <td>3704 42 St SW</td>\n",
       "      <td>979999</td>\n",
       "      <td>CA  AB T3E 3N1</td>\n",
       "      <td>4</td>\n",
       "      <td>3.5</td>\n",
       "      <td>1813</td>\n",
       "      <td>Century 21 Bravo Realty</td>\n",
       "    </tr>\n",
       "  </tbody>\n",
       "</table>\n",
       "</div>"
      ],
      "text/plain": [
       "         Address   Price     Description  Beds  Bath  Sq.Ft  \\\n",
       "0  3704 42 St SW  979999  CA  AB T3E 3N1     4   3.5   1813   \n",
       "\n",
       "                   Website  \n",
       "0  Century 21 Bravo Realty  "
      ]
     },
     "execution_count": 11,
     "metadata": {},
     "output_type": "execute_result"
    }
   ],
   "source": [
    "df.head(1)"
   ]
  },
  {
   "cell_type": "code",
   "execution_count": 12,
   "id": "bbfd4842",
   "metadata": {},
   "outputs": [
    {
     "data": {
      "text/plain": [
       "Index(['Address', 'Price', 'Description', 'Beds', 'Bath', 'Sq.Ft', 'Website'], dtype='object')"
      ]
     },
     "execution_count": 12,
     "metadata": {},
     "output_type": "execute_result"
    }
   ],
   "source": [
    "df.columns"
   ]
  },
  {
   "cell_type": "code",
   "execution_count": 13,
   "id": "114d8583",
   "metadata": {},
   "outputs": [],
   "source": [
    "# Renaming Columns\n",
    "new_name = {'Price':'Price ($)', 'Beds':'Bedroom (No.)', 'Bath':'Bath Type', 'Sq.Ft':'Size (sq.ft)', 'Website':'Real Estate Coy'}\n",
    "df = df.rename(columns=new_name)"
   ]
  },
  {
   "cell_type": "code",
   "execution_count": 14,
   "id": "62229023",
   "metadata": {},
   "outputs": [
    {
     "data": {
      "text/html": [
       "<div>\n",
       "<style scoped>\n",
       "    .dataframe tbody tr th:only-of-type {\n",
       "        vertical-align: middle;\n",
       "    }\n",
       "\n",
       "    .dataframe tbody tr th {\n",
       "        vertical-align: top;\n",
       "    }\n",
       "\n",
       "    .dataframe thead th {\n",
       "        text-align: right;\n",
       "    }\n",
       "</style>\n",
       "<table border=\"1\" class=\"dataframe\">\n",
       "  <thead>\n",
       "    <tr style=\"text-align: right;\">\n",
       "      <th></th>\n",
       "      <th>Address</th>\n",
       "      <th>Price ($)</th>\n",
       "      <th>Description</th>\n",
       "      <th>Bedroom (No.)</th>\n",
       "      <th>Bath Type</th>\n",
       "      <th>Size (sq.ft)</th>\n",
       "      <th>Real Estate Coy</th>\n",
       "    </tr>\n",
       "  </thead>\n",
       "  <tbody>\n",
       "    <tr>\n",
       "      <th>0</th>\n",
       "      <td>3704 42 St SW</td>\n",
       "      <td>979999</td>\n",
       "      <td>CA  AB T3E 3N1</td>\n",
       "      <td>4</td>\n",
       "      <td>3.5</td>\n",
       "      <td>1813</td>\n",
       "      <td>Century 21 Bravo Realty</td>\n",
       "    </tr>\n",
       "  </tbody>\n",
       "</table>\n",
       "</div>"
      ],
      "text/plain": [
       "         Address  Price ($)     Description  Bedroom (No.)  Bath Type  \\\n",
       "0  3704 42 St SW     979999  CA  AB T3E 3N1              4        3.5   \n",
       "\n",
       "   Size (sq.ft)          Real Estate Coy  \n",
       "0          1813  Century 21 Bravo Realty  "
      ]
     },
     "execution_count": 14,
     "metadata": {},
     "output_type": "execute_result"
    }
   ],
   "source": [
    "df.head(1)"
   ]
  },
  {
   "cell_type": "code",
   "execution_count": 15,
   "id": "6415def6",
   "metadata": {},
   "outputs": [
    {
     "data": {
      "text/plain": [
       "10000000"
      ]
     },
     "execution_count": 15,
     "metadata": {},
     "output_type": "execute_result"
    }
   ],
   "source": [
    "df['Price ($)'].max()"
   ]
  },
  {
   "cell_type": "code",
   "execution_count": 16,
   "id": "34298cb0",
   "metadata": {},
   "outputs": [
    {
     "data": {
      "text/html": [
       "<div>\n",
       "<style scoped>\n",
       "    .dataframe tbody tr th:only-of-type {\n",
       "        vertical-align: middle;\n",
       "    }\n",
       "\n",
       "    .dataframe tbody tr th {\n",
       "        vertical-align: top;\n",
       "    }\n",
       "\n",
       "    .dataframe thead th {\n",
       "        text-align: right;\n",
       "    }\n",
       "</style>\n",
       "<table border=\"1\" class=\"dataframe\">\n",
       "  <thead>\n",
       "    <tr style=\"text-align: right;\">\n",
       "      <th></th>\n",
       "      <th>Address</th>\n",
       "      <th>Price ($)</th>\n",
       "      <th>Description</th>\n",
       "      <th>Bedroom (No.)</th>\n",
       "      <th>Bath Type</th>\n",
       "      <th>Size (sq.ft)</th>\n",
       "      <th>Real Estate Coy</th>\n",
       "    </tr>\n",
       "  </thead>\n",
       "  <tbody>\n",
       "    <tr>\n",
       "      <th>2799</th>\n",
       "      <td>100 10A St NW #802</td>\n",
       "      <td>10000000</td>\n",
       "      <td>CA  AB T2N4T3</td>\n",
       "      <td>3</td>\n",
       "      <td>3.5</td>\n",
       "      <td>4715</td>\n",
       "      <td>Purpose Realty</td>\n",
       "    </tr>\n",
       "  </tbody>\n",
       "</table>\n",
       "</div>"
      ],
      "text/plain": [
       "                 Address  Price ($)    Description  Bedroom (No.)  Bath Type  \\\n",
       "2799  100 10A St NW #802   10000000  CA  AB T2N4T3              3        3.5   \n",
       "\n",
       "      Size (sq.ft) Real Estate Coy  \n",
       "2799          4715  Purpose Realty  "
      ]
     },
     "execution_count": 16,
     "metadata": {},
     "output_type": "execute_result"
    }
   ],
   "source": [
    "df[df['Price ($)']==10000000]"
   ]
  },
  {
   "cell_type": "code",
   "execution_count": 17,
   "id": "bb94701a",
   "metadata": {},
   "outputs": [
    {
     "data": {
      "text/plain": [
       "141900"
      ]
     },
     "execution_count": 17,
     "metadata": {},
     "output_type": "execute_result"
    }
   ],
   "source": [
    "df['Price ($)'].min()"
   ]
  },
  {
   "cell_type": "code",
   "execution_count": 18,
   "id": "f5a351ac",
   "metadata": {},
   "outputs": [
    {
     "data": {
      "text/html": [
       "<div>\n",
       "<style scoped>\n",
       "    .dataframe tbody tr th:only-of-type {\n",
       "        vertical-align: middle;\n",
       "    }\n",
       "\n",
       "    .dataframe tbody tr th {\n",
       "        vertical-align: top;\n",
       "    }\n",
       "\n",
       "    .dataframe thead th {\n",
       "        text-align: right;\n",
       "    }\n",
       "</style>\n",
       "<table border=\"1\" class=\"dataframe\">\n",
       "  <thead>\n",
       "    <tr style=\"text-align: right;\">\n",
       "      <th></th>\n",
       "      <th>Address</th>\n",
       "      <th>Price ($)</th>\n",
       "      <th>Description</th>\n",
       "      <th>Bedroom (No.)</th>\n",
       "      <th>Bath Type</th>\n",
       "      <th>Size (sq.ft)</th>\n",
       "      <th>Real Estate Coy</th>\n",
       "    </tr>\n",
       "  </thead>\n",
       "  <tbody>\n",
       "    <tr>\n",
       "      <th>2341</th>\n",
       "      <td>5200 44 Ave NE #1353</td>\n",
       "      <td>141900</td>\n",
       "      <td>CA  AB T1Y 7L4</td>\n",
       "      <td>1</td>\n",
       "      <td>1.0</td>\n",
       "      <td>309</td>\n",
       "      <td>RE/MAX Landan Real Estate</td>\n",
       "    </tr>\n",
       "  </tbody>\n",
       "</table>\n",
       "</div>"
      ],
      "text/plain": [
       "                   Address  Price ($)     Description  Bedroom (No.)  \\\n",
       "2341  5200 44 Ave NE #1353     141900  CA  AB T1Y 7L4              1   \n",
       "\n",
       "      Bath Type  Size (sq.ft)            Real Estate Coy  \n",
       "2341        1.0           309  RE/MAX Landan Real Estate  "
      ]
     },
     "execution_count": 18,
     "metadata": {},
     "output_type": "execute_result"
    }
   ],
   "source": [
    "df[df['Price ($)']==141900]"
   ]
  },
  {
   "cell_type": "code",
   "execution_count": 19,
   "id": "8ca548b5",
   "metadata": {},
   "outputs": [
    {
     "data": {
      "text/plain": [
       "10"
      ]
     },
     "execution_count": 19,
     "metadata": {},
     "output_type": "execute_result"
    }
   ],
   "source": [
    "df['Bedroom (No.)'].max()"
   ]
  },
  {
   "cell_type": "code",
   "execution_count": 20,
   "id": "ac0e1029",
   "metadata": {},
   "outputs": [
    {
     "data": {
      "text/html": [
       "<div>\n",
       "<style scoped>\n",
       "    .dataframe tbody tr th:only-of-type {\n",
       "        vertical-align: middle;\n",
       "    }\n",
       "\n",
       "    .dataframe tbody tr th {\n",
       "        vertical-align: top;\n",
       "    }\n",
       "\n",
       "    .dataframe thead th {\n",
       "        text-align: right;\n",
       "    }\n",
       "</style>\n",
       "<table border=\"1\" class=\"dataframe\">\n",
       "  <thead>\n",
       "    <tr style=\"text-align: right;\">\n",
       "      <th></th>\n",
       "      <th>Address</th>\n",
       "      <th>Price ($)</th>\n",
       "      <th>Description</th>\n",
       "      <th>Bedroom (No.)</th>\n",
       "      <th>Bath Type</th>\n",
       "      <th>Size (sq.ft)</th>\n",
       "      <th>Real Estate Coy</th>\n",
       "    </tr>\n",
       "  </thead>\n",
       "  <tbody>\n",
       "    <tr>\n",
       "      <th>1830</th>\n",
       "      <td>7717&amp;7719 41 Ave NW</td>\n",
       "      <td>880000</td>\n",
       "      <td>CA  AB T3R 1S6</td>\n",
       "      <td>10</td>\n",
       "      <td>4.0</td>\n",
       "      <td>2054</td>\n",
       "      <td>Homecare Realty Ltd.</td>\n",
       "    </tr>\n",
       "  </tbody>\n",
       "</table>\n",
       "</div>"
      ],
      "text/plain": [
       "                  Address  Price ($)     Description  Bedroom (No.)  \\\n",
       "1830  7717&7719 41 Ave NW     880000  CA  AB T3R 1S6             10   \n",
       "\n",
       "      Bath Type  Size (sq.ft)       Real Estate Coy  \n",
       "1830        4.0          2054  Homecare Realty Ltd.  "
      ]
     },
     "execution_count": 20,
     "metadata": {},
     "output_type": "execute_result"
    }
   ],
   "source": [
    "df[df['Bedroom (No.)']==10]"
   ]
  },
  {
   "cell_type": "code",
   "execution_count": 21,
   "id": "aa879710",
   "metadata": {},
   "outputs": [
    {
     "data": {
      "text/plain": [
       "1"
      ]
     },
     "execution_count": 21,
     "metadata": {},
     "output_type": "execute_result"
    }
   ],
   "source": [
    "df['Bedroom (No.)'].min()"
   ]
  },
  {
   "cell_type": "code",
   "execution_count": 22,
   "id": "f99dac3b",
   "metadata": {},
   "outputs": [
    {
     "data": {
      "text/html": [
       "<div>\n",
       "<style scoped>\n",
       "    .dataframe tbody tr th:only-of-type {\n",
       "        vertical-align: middle;\n",
       "    }\n",
       "\n",
       "    .dataframe tbody tr th {\n",
       "        vertical-align: top;\n",
       "    }\n",
       "\n",
       "    .dataframe thead th {\n",
       "        text-align: right;\n",
       "    }\n",
       "</style>\n",
       "<table border=\"1\" class=\"dataframe\">\n",
       "  <thead>\n",
       "    <tr style=\"text-align: right;\">\n",
       "      <th></th>\n",
       "      <th>Address</th>\n",
       "      <th>Price ($)</th>\n",
       "      <th>Description</th>\n",
       "      <th>Bedroom (No.)</th>\n",
       "      <th>Bath Type</th>\n",
       "      <th>Size (sq.ft)</th>\n",
       "      <th>Real Estate Coy</th>\n",
       "    </tr>\n",
       "  </thead>\n",
       "  <tbody>\n",
       "    <tr>\n",
       "      <th>22</th>\n",
       "      <td>1805 26 Ave SW #302</td>\n",
       "      <td>269000</td>\n",
       "      <td>CA  AB T2T 1E2</td>\n",
       "      <td>1</td>\n",
       "      <td>1.0</td>\n",
       "      <td>707</td>\n",
       "      <td>Exp Realty</td>\n",
       "    </tr>\n",
       "    <tr>\n",
       "      <th>24</th>\n",
       "      <td>215 25 Ave SW #403</td>\n",
       "      <td>212000</td>\n",
       "      <td>CA  AB T2S 0L2</td>\n",
       "      <td>1</td>\n",
       "      <td>1.0</td>\n",
       "      <td>563</td>\n",
       "      <td>Real Estate Professionals Inc.</td>\n",
       "    </tr>\n",
       "    <tr>\n",
       "      <th>58</th>\n",
       "      <td>222 Riverfront Ave SW #414</td>\n",
       "      <td>469000</td>\n",
       "      <td>CA  AB T2P 0X2</td>\n",
       "      <td>1</td>\n",
       "      <td>1.0</td>\n",
       "      <td>700</td>\n",
       "      <td>Grand Realty</td>\n",
       "    </tr>\n",
       "    <tr>\n",
       "      <th>72</th>\n",
       "      <td>310 12 Ave SW #2604</td>\n",
       "      <td>279900</td>\n",
       "      <td>CA  AB T2R 1B5</td>\n",
       "      <td>1</td>\n",
       "      <td>1.0</td>\n",
       "      <td>445</td>\n",
       "      <td>RE/MAX Realty Professionals</td>\n",
       "    </tr>\n",
       "    <tr>\n",
       "      <th>94</th>\n",
       "      <td>225 11 Ave SE #1909</td>\n",
       "      <td>330000</td>\n",
       "      <td>CA  AB T2G 0G3</td>\n",
       "      <td>1</td>\n",
       "      <td>1.0</td>\n",
       "      <td>549</td>\n",
       "      <td>Coldwell Banker Mountain Central</td>\n",
       "    </tr>\n",
       "    <tr>\n",
       "      <th>...</th>\n",
       "      <td>...</td>\n",
       "      <td>...</td>\n",
       "      <td>...</td>\n",
       "      <td>...</td>\n",
       "      <td>...</td>\n",
       "      <td>...</td>\n",
       "      <td>...</td>\n",
       "    </tr>\n",
       "    <tr>\n",
       "      <th>3310</th>\n",
       "      <td>221 6 Ave SE #1905</td>\n",
       "      <td>201999</td>\n",
       "      <td>CA  AB T2G 4Z9</td>\n",
       "      <td>1</td>\n",
       "      <td>1.0</td>\n",
       "      <td>767</td>\n",
       "      <td>E-Trinity Realty And Management Ltd</td>\n",
       "    </tr>\n",
       "    <tr>\n",
       "      <th>3313</th>\n",
       "      <td>47 34 Ave SW</td>\n",
       "      <td>749900</td>\n",
       "      <td>CA  AB T2S 2Y9</td>\n",
       "      <td>1</td>\n",
       "      <td>1.0</td>\n",
       "      <td>689</td>\n",
       "      <td>Purpose Realty</td>\n",
       "    </tr>\n",
       "    <tr>\n",
       "      <th>3319</th>\n",
       "      <td>2727 28 Ave SE #109</td>\n",
       "      <td>234900</td>\n",
       "      <td>CA  AB T2B 0L4</td>\n",
       "      <td>1</td>\n",
       "      <td>1.0</td>\n",
       "      <td>571</td>\n",
       "      <td>Stratten Gates Real Estate Ltd.</td>\n",
       "    </tr>\n",
       "    <tr>\n",
       "      <th>3328</th>\n",
       "      <td>226 Village Terrace SW #5</td>\n",
       "      <td>234000</td>\n",
       "      <td>CA  AB T3H2L4</td>\n",
       "      <td>1</td>\n",
       "      <td>1.0</td>\n",
       "      <td>542</td>\n",
       "      <td>Cir Realty</td>\n",
       "    </tr>\n",
       "    <tr>\n",
       "      <th>3352</th>\n",
       "      <td>1122 3 St SE #2503</td>\n",
       "      <td>258000</td>\n",
       "      <td>CA  AB T2G 1H7</td>\n",
       "      <td>1</td>\n",
       "      <td>1.0</td>\n",
       "      <td>400</td>\n",
       "      <td>Royal Lepage Benchmark</td>\n",
       "    </tr>\n",
       "  </tbody>\n",
       "</table>\n",
       "<p>364 rows × 7 columns</p>\n",
       "</div>"
      ],
      "text/plain": [
       "                         Address  Price ($)     Description  Bedroom (No.)  \\\n",
       "22           1805 26 Ave SW #302     269000  CA  AB T2T 1E2              1   \n",
       "24            215 25 Ave SW #403     212000  CA  AB T2S 0L2              1   \n",
       "58    222 Riverfront Ave SW #414     469000  CA  AB T2P 0X2              1   \n",
       "72           310 12 Ave SW #2604     279900  CA  AB T2R 1B5              1   \n",
       "94           225 11 Ave SE #1909     330000  CA  AB T2G 0G3              1   \n",
       "...                          ...        ...             ...            ...   \n",
       "3310          221 6 Ave SE #1905     201999  CA  AB T2G 4Z9              1   \n",
       "3313                47 34 Ave SW     749900  CA  AB T2S 2Y9              1   \n",
       "3319         2727 28 Ave SE #109     234900  CA  AB T2B 0L4              1   \n",
       "3328   226 Village Terrace SW #5     234000   CA  AB T3H2L4              1   \n",
       "3352          1122 3 St SE #2503     258000  CA  AB T2G 1H7              1   \n",
       "\n",
       "      Bath Type  Size (sq.ft)                      Real Estate Coy  \n",
       "22          1.0           707                           Exp Realty  \n",
       "24          1.0           563       Real Estate Professionals Inc.  \n",
       "58          1.0           700                         Grand Realty  \n",
       "72          1.0           445          RE/MAX Realty Professionals  \n",
       "94          1.0           549     Coldwell Banker Mountain Central  \n",
       "...         ...           ...                                  ...  \n",
       "3310        1.0           767  E-Trinity Realty And Management Ltd  \n",
       "3313        1.0           689                       Purpose Realty  \n",
       "3319        1.0           571      Stratten Gates Real Estate Ltd.  \n",
       "3328        1.0           542                           Cir Realty  \n",
       "3352        1.0           400               Royal Lepage Benchmark  \n",
       "\n",
       "[364 rows x 7 columns]"
      ]
     },
     "execution_count": 22,
     "metadata": {},
     "output_type": "execute_result"
    }
   ],
   "source": [
    "df[df['Bedroom (No.)']==1]"
   ]
  },
  {
   "cell_type": "code",
   "execution_count": 23,
   "id": "8eed9f68",
   "metadata": {},
   "outputs": [
    {
     "data": {
      "text/plain": [
       "Address            364\n",
       "Price ($)          364\n",
       "Description        364\n",
       "Bedroom (No.)      364\n",
       "Bath Type          364\n",
       "Size (sq.ft)       364\n",
       "Real Estate Coy    364\n",
       "dtype: int64"
      ]
     },
     "execution_count": 23,
     "metadata": {},
     "output_type": "execute_result"
    }
   ],
   "source": [
    "df[df['Bedroom (No.)']==1].count()"
   ]
  },
  {
   "cell_type": "code",
   "execution_count": 24,
   "id": "cc048c28",
   "metadata": {},
   "outputs": [
    {
     "data": {
      "text/plain": [
       "8.0"
      ]
     },
     "execution_count": 24,
     "metadata": {},
     "output_type": "execute_result"
    }
   ],
   "source": [
    "df['Bath Type'].max()"
   ]
  },
  {
   "cell_type": "code",
   "execution_count": 25,
   "id": "91eb742f",
   "metadata": {},
   "outputs": [
    {
     "data": {
      "text/html": [
       "<div>\n",
       "<style scoped>\n",
       "    .dataframe tbody tr th:only-of-type {\n",
       "        vertical-align: middle;\n",
       "    }\n",
       "\n",
       "    .dataframe tbody tr th {\n",
       "        vertical-align: top;\n",
       "    }\n",
       "\n",
       "    .dataframe thead th {\n",
       "        text-align: right;\n",
       "    }\n",
       "</style>\n",
       "<table border=\"1\" class=\"dataframe\">\n",
       "  <thead>\n",
       "    <tr style=\"text-align: right;\">\n",
       "      <th></th>\n",
       "      <th>Address</th>\n",
       "      <th>Price ($)</th>\n",
       "      <th>Description</th>\n",
       "      <th>Bedroom (No.)</th>\n",
       "      <th>Bath Type</th>\n",
       "      <th>Size (sq.ft)</th>\n",
       "      <th>Real Estate Coy</th>\n",
       "    </tr>\n",
       "  </thead>\n",
       "  <tbody>\n",
       "    <tr>\n",
       "      <th>3194</th>\n",
       "      <td>1425 18 Ave NW</td>\n",
       "      <td>1799000</td>\n",
       "      <td>CA  AB T2M 0W7</td>\n",
       "      <td>8</td>\n",
       "      <td>8.0</td>\n",
       "      <td>2962</td>\n",
       "      <td>Stratten Gates Real Estate Ltd.</td>\n",
       "    </tr>\n",
       "  </tbody>\n",
       "</table>\n",
       "</div>"
      ],
      "text/plain": [
       "             Address  Price ($)     Description  Bedroom (No.)  Bath Type  \\\n",
       "3194  1425 18 Ave NW    1799000  CA  AB T2M 0W7              8        8.0   \n",
       "\n",
       "      Size (sq.ft)                  Real Estate Coy  \n",
       "3194          2962  Stratten Gates Real Estate Ltd.  "
      ]
     },
     "execution_count": 25,
     "metadata": {},
     "output_type": "execute_result"
    }
   ],
   "source": [
    "df[df['Bath Type']==8.0]"
   ]
  },
  {
   "cell_type": "code",
   "execution_count": 26,
   "id": "4f4a7c23",
   "metadata": {},
   "outputs": [
    {
     "data": {
      "text/plain": [
       "1.0"
      ]
     },
     "execution_count": 26,
     "metadata": {},
     "output_type": "execute_result"
    }
   ],
   "source": [
    "df['Bath Type'].min()"
   ]
  },
  {
   "cell_type": "code",
   "execution_count": 27,
   "id": "006a2b19",
   "metadata": {},
   "outputs": [
    {
     "data": {
      "text/html": [
       "<div>\n",
       "<style scoped>\n",
       "    .dataframe tbody tr th:only-of-type {\n",
       "        vertical-align: middle;\n",
       "    }\n",
       "\n",
       "    .dataframe tbody tr th {\n",
       "        vertical-align: top;\n",
       "    }\n",
       "\n",
       "    .dataframe thead th {\n",
       "        text-align: right;\n",
       "    }\n",
       "</style>\n",
       "<table border=\"1\" class=\"dataframe\">\n",
       "  <thead>\n",
       "    <tr style=\"text-align: right;\">\n",
       "      <th></th>\n",
       "      <th>Address</th>\n",
       "      <th>Price ($)</th>\n",
       "      <th>Description</th>\n",
       "      <th>Bedroom (No.)</th>\n",
       "      <th>Bath Type</th>\n",
       "      <th>Size (sq.ft)</th>\n",
       "      <th>Real Estate Coy</th>\n",
       "    </tr>\n",
       "  </thead>\n",
       "  <tbody>\n",
       "    <tr>\n",
       "      <th>8</th>\n",
       "      <td>928 3 Ave NW #1</td>\n",
       "      <td>269900</td>\n",
       "      <td>CA  AB T2N 0J6</td>\n",
       "      <td>2</td>\n",
       "      <td>1.0</td>\n",
       "      <td>756</td>\n",
       "      <td>Century 21 Bamber Realty Ltd.</td>\n",
       "    </tr>\n",
       "    <tr>\n",
       "      <th>22</th>\n",
       "      <td>1805 26 Ave SW #302</td>\n",
       "      <td>269000</td>\n",
       "      <td>CA  AB T2T 1E2</td>\n",
       "      <td>1</td>\n",
       "      <td>1.0</td>\n",
       "      <td>707</td>\n",
       "      <td>Exp Realty</td>\n",
       "    </tr>\n",
       "    <tr>\n",
       "      <th>24</th>\n",
       "      <td>215 25 Ave SW #403</td>\n",
       "      <td>212000</td>\n",
       "      <td>CA  AB T2S 0L2</td>\n",
       "      <td>1</td>\n",
       "      <td>1.0</td>\n",
       "      <td>563</td>\n",
       "      <td>Real Estate Professionals Inc.</td>\n",
       "    </tr>\n",
       "    <tr>\n",
       "      <th>34</th>\n",
       "      <td>2710 Dovely Park SE</td>\n",
       "      <td>270000</td>\n",
       "      <td>CA  AB T2B 3G8</td>\n",
       "      <td>2</td>\n",
       "      <td>1.0</td>\n",
       "      <td>758</td>\n",
       "      <td>Real Broker</td>\n",
       "    </tr>\n",
       "    <tr>\n",
       "      <th>38</th>\n",
       "      <td>1712 38 St SE #102</td>\n",
       "      <td>169900</td>\n",
       "      <td>CA  AB T2A 1H1</td>\n",
       "      <td>2</td>\n",
       "      <td>1.0</td>\n",
       "      <td>751</td>\n",
       "      <td>RE/MAX Realty Professionals</td>\n",
       "    </tr>\n",
       "    <tr>\n",
       "      <th>...</th>\n",
       "      <td>...</td>\n",
       "      <td>...</td>\n",
       "      <td>...</td>\n",
       "      <td>...</td>\n",
       "      <td>...</td>\n",
       "      <td>...</td>\n",
       "      <td>...</td>\n",
       "    </tr>\n",
       "    <tr>\n",
       "      <th>3319</th>\n",
       "      <td>2727 28 Ave SE #109</td>\n",
       "      <td>234900</td>\n",
       "      <td>CA  AB T2B 0L4</td>\n",
       "      <td>1</td>\n",
       "      <td>1.0</td>\n",
       "      <td>571</td>\n",
       "      <td>Stratten Gates Real Estate Ltd.</td>\n",
       "    </tr>\n",
       "    <tr>\n",
       "      <th>3328</th>\n",
       "      <td>226 Village Terrace SW #5</td>\n",
       "      <td>234000</td>\n",
       "      <td>CA  AB T3H2L4</td>\n",
       "      <td>1</td>\n",
       "      <td>1.0</td>\n",
       "      <td>542</td>\n",
       "      <td>Cir Realty</td>\n",
       "    </tr>\n",
       "    <tr>\n",
       "      <th>3346</th>\n",
       "      <td>1111 15 Ave SW #801</td>\n",
       "      <td>170000</td>\n",
       "      <td>CA  AB T2R 0S8</td>\n",
       "      <td>2</td>\n",
       "      <td>1.0</td>\n",
       "      <td>724</td>\n",
       "      <td>Power Properties</td>\n",
       "    </tr>\n",
       "    <tr>\n",
       "      <th>3351</th>\n",
       "      <td>56 6 St NE</td>\n",
       "      <td>524900</td>\n",
       "      <td>CA  AB T2E 3X9</td>\n",
       "      <td>2</td>\n",
       "      <td>1.0</td>\n",
       "      <td>1007</td>\n",
       "      <td>Tink</td>\n",
       "    </tr>\n",
       "    <tr>\n",
       "      <th>3352</th>\n",
       "      <td>1122 3 St SE #2503</td>\n",
       "      <td>258000</td>\n",
       "      <td>CA  AB T2G 1H7</td>\n",
       "      <td>1</td>\n",
       "      <td>1.0</td>\n",
       "      <td>400</td>\n",
       "      <td>Royal Lepage Benchmark</td>\n",
       "    </tr>\n",
       "  </tbody>\n",
       "</table>\n",
       "<p>545 rows × 7 columns</p>\n",
       "</div>"
      ],
      "text/plain": [
       "                        Address  Price ($)     Description  Bedroom (No.)  \\\n",
       "8               928 3 Ave NW #1     269900  CA  AB T2N 0J6              2   \n",
       "22          1805 26 Ave SW #302     269000  CA  AB T2T 1E2              1   \n",
       "24           215 25 Ave SW #403     212000  CA  AB T2S 0L2              1   \n",
       "34          2710 Dovely Park SE     270000  CA  AB T2B 3G8              2   \n",
       "38           1712 38 St SE #102     169900  CA  AB T2A 1H1              2   \n",
       "...                         ...        ...             ...            ...   \n",
       "3319        2727 28 Ave SE #109     234900  CA  AB T2B 0L4              1   \n",
       "3328  226 Village Terrace SW #5     234000   CA  AB T3H2L4              1   \n",
       "3346        1111 15 Ave SW #801     170000  CA  AB T2R 0S8              2   \n",
       "3351                 56 6 St NE     524900  CA  AB T2E 3X9              2   \n",
       "3352         1122 3 St SE #2503     258000  CA  AB T2G 1H7              1   \n",
       "\n",
       "      Bath Type  Size (sq.ft)                  Real Estate Coy  \n",
       "8           1.0           756    Century 21 Bamber Realty Ltd.  \n",
       "22          1.0           707                       Exp Realty  \n",
       "24          1.0           563   Real Estate Professionals Inc.  \n",
       "34          1.0           758                      Real Broker  \n",
       "38          1.0           751      RE/MAX Realty Professionals  \n",
       "...         ...           ...                              ...  \n",
       "3319        1.0           571  Stratten Gates Real Estate Ltd.  \n",
       "3328        1.0           542                       Cir Realty  \n",
       "3346        1.0           724                 Power Properties  \n",
       "3351        1.0          1007                             Tink  \n",
       "3352        1.0           400           Royal Lepage Benchmark  \n",
       "\n",
       "[545 rows x 7 columns]"
      ]
     },
     "execution_count": 27,
     "metadata": {},
     "output_type": "execute_result"
    }
   ],
   "source": [
    "df[df['Bath Type']==1.0]"
   ]
  },
  {
   "cell_type": "code",
   "execution_count": 28,
   "id": "1f73075b",
   "metadata": {},
   "outputs": [
    {
     "data": {
      "text/plain": [
       "Address            545\n",
       "Price ($)          545\n",
       "Description        545\n",
       "Bedroom (No.)      545\n",
       "Bath Type          545\n",
       "Size (sq.ft)       545\n",
       "Real Estate Coy    545\n",
       "dtype: int64"
      ]
     },
     "execution_count": 28,
     "metadata": {},
     "output_type": "execute_result"
    }
   ],
   "source": [
    "df[df['Bath Type']==1.0].count()"
   ]
  },
  {
   "cell_type": "code",
   "execution_count": 29,
   "id": "c250cb28",
   "metadata": {},
   "outputs": [
    {
     "data": {
      "text/plain": [
       "array([ 4,  2,  6,  3,  5,  1,  7,  8, 10], dtype=int64)"
      ]
     },
     "execution_count": 29,
     "metadata": {},
     "output_type": "execute_result"
    }
   ],
   "source": [
    "df['Bedroom (No.)'].unique()"
   ]
  },
  {
   "cell_type": "code",
   "execution_count": 30,
   "id": "123a4a3f",
   "metadata": {},
   "outputs": [
    {
     "data": {
      "text/plain": [
       "array([3.5, 2. , 2.5, 1. , 3. , 1.5, 4.5, 5. , 6.5, 4. , 5.5, 6. , 7.5,\n",
       "       8. ])"
      ]
     },
     "execution_count": 30,
     "metadata": {},
     "output_type": "execute_result"
    }
   ],
   "source": [
    "df['Bath Type'].unique()"
   ]
  },
  {
   "cell_type": "code",
   "execution_count": 31,
   "id": "c9582cb4",
   "metadata": {},
   "outputs": [
    {
     "data": {
      "text/plain": [
       "39654"
      ]
     },
     "execution_count": 31,
     "metadata": {},
     "output_type": "execute_result"
    }
   ],
   "source": [
    "df['Size (sq.ft)'].max()"
   ]
  },
  {
   "cell_type": "code",
   "execution_count": 32,
   "id": "85ecba2c",
   "metadata": {},
   "outputs": [
    {
     "data": {
      "text/plain": [
       "307"
      ]
     },
     "execution_count": 32,
     "metadata": {},
     "output_type": "execute_result"
    }
   ],
   "source": [
    "df['Size (sq.ft)'].min()"
   ]
  },
  {
   "cell_type": "code",
   "execution_count": 33,
   "id": "7cb266c1",
   "metadata": {},
   "outputs": [
    {
     "data": {
      "text/html": [
       "<div>\n",
       "<style scoped>\n",
       "    .dataframe tbody tr th:only-of-type {\n",
       "        vertical-align: middle;\n",
       "    }\n",
       "\n",
       "    .dataframe tbody tr th {\n",
       "        vertical-align: top;\n",
       "    }\n",
       "\n",
       "    .dataframe thead th {\n",
       "        text-align: right;\n",
       "    }\n",
       "</style>\n",
       "<table border=\"1\" class=\"dataframe\">\n",
       "  <thead>\n",
       "    <tr style=\"text-align: right;\">\n",
       "      <th></th>\n",
       "      <th>Address</th>\n",
       "      <th>Price ($)</th>\n",
       "      <th>Description</th>\n",
       "      <th>Bedroom (No.)</th>\n",
       "      <th>Bath Type</th>\n",
       "      <th>Size (sq.ft)</th>\n",
       "      <th>Real Estate Coy</th>\n",
       "    </tr>\n",
       "  </thead>\n",
       "  <tbody>\n",
       "    <tr>\n",
       "      <th>1584</th>\n",
       "      <td>2012 3 Ave NW</td>\n",
       "      <td>1695000</td>\n",
       "      <td>CA  AB T2N 0K2</td>\n",
       "      <td>4</td>\n",
       "      <td>3.5</td>\n",
       "      <td>39654</td>\n",
       "      <td>Cir Realty</td>\n",
       "    </tr>\n",
       "  </tbody>\n",
       "</table>\n",
       "</div>"
      ],
      "text/plain": [
       "            Address  Price ($)     Description  Bedroom (No.)  Bath Type  \\\n",
       "1584  2012 3 Ave NW    1695000  CA  AB T2N 0K2              4        3.5   \n",
       "\n",
       "      Size (sq.ft) Real Estate Coy  \n",
       "1584         39654      Cir Realty  "
      ]
     },
     "execution_count": 33,
     "metadata": {},
     "output_type": "execute_result"
    }
   ],
   "source": [
    "df[df['Size (sq.ft)']==39654]"
   ]
  },
  {
   "cell_type": "code",
   "execution_count": 34,
   "id": "df1a31c1",
   "metadata": {},
   "outputs": [
    {
     "data": {
      "text/html": [
       "<div>\n",
       "<style scoped>\n",
       "    .dataframe tbody tr th:only-of-type {\n",
       "        vertical-align: middle;\n",
       "    }\n",
       "\n",
       "    .dataframe tbody tr th {\n",
       "        vertical-align: top;\n",
       "    }\n",
       "\n",
       "    .dataframe thead th {\n",
       "        text-align: right;\n",
       "    }\n",
       "</style>\n",
       "<table border=\"1\" class=\"dataframe\">\n",
       "  <thead>\n",
       "    <tr style=\"text-align: right;\">\n",
       "      <th></th>\n",
       "      <th>Address</th>\n",
       "      <th>Price ($)</th>\n",
       "      <th>Description</th>\n",
       "      <th>Bedroom (No.)</th>\n",
       "      <th>Bath Type</th>\n",
       "      <th>Size (sq.ft)</th>\n",
       "      <th>Real Estate Coy</th>\n",
       "    </tr>\n",
       "  </thead>\n",
       "  <tbody>\n",
       "    <tr>\n",
       "      <th>1534</th>\n",
       "      <td>1234 5 Ave NW #2503</td>\n",
       "      <td>209900</td>\n",
       "      <td>CA  AB T2N 0R9</td>\n",
       "      <td>1</td>\n",
       "      <td>1.0</td>\n",
       "      <td>307</td>\n",
       "      <td>Royal Lepage Benchmark</td>\n",
       "    </tr>\n",
       "  </tbody>\n",
       "</table>\n",
       "</div>"
      ],
      "text/plain": [
       "                  Address  Price ($)     Description  Bedroom (No.)  \\\n",
       "1534  1234 5 Ave NW #2503     209900  CA  AB T2N 0R9              1   \n",
       "\n",
       "      Bath Type  Size (sq.ft)         Real Estate Coy  \n",
       "1534        1.0           307  Royal Lepage Benchmark  "
      ]
     },
     "execution_count": 34,
     "metadata": {},
     "output_type": "execute_result"
    }
   ],
   "source": [
    "df[df['Size (sq.ft)']==307]"
   ]
  },
  {
   "cell_type": "code",
   "execution_count": 35,
   "id": "1c5754cd",
   "metadata": {},
   "outputs": [
    {
     "data": {
      "text/plain": [
       "<seaborn.axisgrid.FacetGrid at 0x24e609e9d10>"
      ]
     },
     "execution_count": 35,
     "metadata": {},
     "output_type": "execute_result"
    },
    {
     "data": {
      "text/plain": [
       "<Figure size 500x4500 with 0 Axes>"
      ]
     },
     "metadata": {},
     "output_type": "display_data"
    },
    {
     "data": {
      "image/png": "[encoded data removed]",
      "text/plain": [
       "<Figure size 500x500 with 1 Axes>"
      ]
     },
     "metadata": {},
     "output_type": "display_data"
    }
   ],
   "source": [
    "# Visualize the distribution of Price ($) using displot\n",
    "plt.figure(figsize=(5,45))\n",
    "sns.displot(data=df['Price ($)'])"
   ]
  },
  {
   "cell_type": "code",
   "execution_count": 36,
   "id": "4f37d67d",
   "metadata": {},
   "outputs": [
    {
     "data": {
      "image/png": "[encoded data removed]",
      "text/plain": [
       "<Figure size 640x480 with 1 Axes>"
      ]
     },
     "metadata": {},
     "output_type": "display_data"
    }
   ],
   "source": [
    "ax = sns.barplot(data=df, x = 'Bedroom (No.)', y = 'Price ($)', errorbar=None)\n",
    "# ax.set_xticks([0,10])\n",
    "# ax.set_yticks([0,50])\n",
    "ax.grid()\n",
    "plt.tight_layout()"
   ]
  },
  {
   "cell_type": "code",
   "execution_count": 37,
   "id": "0bad791f",
   "metadata": {},
   "outputs": [
    {
     "data": {
      "image/png": "[encoded data removed]",
      "text/plain": [
       "<Figure size 640x480 with 1 Axes>"
      ]
     },
     "metadata": {},
     "output_type": "display_data"
    }
   ],
   "source": [
    "ax = sns.barplot(data=df, x = 'Bath Type', y = 'Price ($)', errorbar=None)\n",
    "# ax.set_xticks([0,10])\n",
    "# ax.set_yticks([0,50])\n",
    "ax.grid()\n",
    "plt.tight_layout()"
   ]
  },
  {
   "cell_type": "code",
   "execution_count": 38,
   "id": "eef7cd4a",
   "metadata": {},
   "outputs": [
    {
     "data": {
      "image/png": "[encoded data removed]",
      "text/plain": [
       "<Figure size 640x480 with 1 Axes>"
      ]
     },
     "metadata": {},
     "output_type": "display_data"
    }
   ],
   "source": [
    "ax = sns.barplot(data=df, x = 'Bedroom (No.)', y = 'Bath Type', errorbar=None)\n",
    "# ax.set_xticks([0,10])\n",
    "# ax.set_yticks([0,50])\n",
    "ax.grid()\n",
    "plt.tight_layout()"
   ]
  },
  {
   "cell_type": "code",
   "execution_count": 39,
   "id": "bcef2dc1",
   "metadata": {},
   "outputs": [
    {
     "data": {
      "text/html": [
       "<div>\n",
       "<style scoped>\n",
       "    .dataframe tbody tr th:only-of-type {\n",
       "        vertical-align: middle;\n",
       "    }\n",
       "\n",
       "    .dataframe tbody tr th {\n",
       "        vertical-align: top;\n",
       "    }\n",
       "\n",
       "    .dataframe thead th {\n",
       "        text-align: right;\n",
       "    }\n",
       "</style>\n",
       "<table border=\"1\" class=\"dataframe\">\n",
       "  <thead>\n",
       "    <tr style=\"text-align: right;\">\n",
       "      <th></th>\n",
       "      <th>Address</th>\n",
       "      <th>Price ($)</th>\n",
       "      <th>Description</th>\n",
       "      <th>Bedroom (No.)</th>\n",
       "      <th>Bath Type</th>\n",
       "      <th>Size (sq.ft)</th>\n",
       "      <th>Real Estate Coy</th>\n",
       "    </tr>\n",
       "  </thead>\n",
       "  <tbody>\n",
       "    <tr>\n",
       "      <th>2341</th>\n",
       "      <td>5200 44 Ave NE #1353</td>\n",
       "      <td>141900</td>\n",
       "      <td>CA  AB T1Y 7L4</td>\n",
       "      <td>1</td>\n",
       "      <td>1.0</td>\n",
       "      <td>309</td>\n",
       "      <td>RE/MAX Landan Real Estate</td>\n",
       "    </tr>\n",
       "    <tr>\n",
       "      <th>649</th>\n",
       "      <td>4512 75 St NW #102</td>\n",
       "      <td>143900</td>\n",
       "      <td>CA  AB T3B2M9</td>\n",
       "      <td>1</td>\n",
       "      <td>1.0</td>\n",
       "      <td>504</td>\n",
       "      <td>Real Estate Professionals Inc.</td>\n",
       "    </tr>\n",
       "    <tr>\n",
       "      <th>2306</th>\n",
       "      <td>116 3 Ave SE #907</td>\n",
       "      <td>145900</td>\n",
       "      <td>CA  AB T2G 5A9</td>\n",
       "      <td>2</td>\n",
       "      <td>1.0</td>\n",
       "      <td>666</td>\n",
       "      <td>Real Broker</td>\n",
       "    </tr>\n",
       "    <tr>\n",
       "      <th>3122</th>\n",
       "      <td>1820 9 St SW #303</td>\n",
       "      <td>149000</td>\n",
       "      <td>CA  AB T2T3C3</td>\n",
       "      <td>1</td>\n",
       "      <td>1.0</td>\n",
       "      <td>475</td>\n",
       "      <td>First Place Realty</td>\n",
       "    </tr>\n",
       "    <tr>\n",
       "      <th>3124</th>\n",
       "      <td>1820 9 #306</td>\n",
       "      <td>149000</td>\n",
       "      <td>CA  AB T2T3C3</td>\n",
       "      <td>1</td>\n",
       "      <td>1.0</td>\n",
       "      <td>471</td>\n",
       "      <td>First Place Realty</td>\n",
       "    </tr>\n",
       "    <tr>\n",
       "      <th>...</th>\n",
       "      <td>...</td>\n",
       "      <td>...</td>\n",
       "      <td>...</td>\n",
       "      <td>...</td>\n",
       "      <td>...</td>\n",
       "      <td>...</td>\n",
       "      <td>...</td>\n",
       "    </tr>\n",
       "    <tr>\n",
       "      <th>3358</th>\n",
       "      <td>738 1 Ave SW #1307</td>\n",
       "      <td>7988000</td>\n",
       "      <td>CA  AB T2P 5G8</td>\n",
       "      <td>2</td>\n",
       "      <td>2.5</td>\n",
       "      <td>3544</td>\n",
       "      <td>RE/MAX Real Estate (Central)</td>\n",
       "    </tr>\n",
       "    <tr>\n",
       "      <th>3067</th>\n",
       "      <td>40 Eagle Ridge Place SW</td>\n",
       "      <td>7995000</td>\n",
       "      <td>CA  AB T2V 2V8</td>\n",
       "      <td>5</td>\n",
       "      <td>5.5</td>\n",
       "      <td>5434</td>\n",
       "      <td>Century 21 Bamber Realty Ltd.</td>\n",
       "    </tr>\n",
       "    <tr>\n",
       "      <th>3356</th>\n",
       "      <td>4111 162 Ave SW</td>\n",
       "      <td>8000000</td>\n",
       "      <td>CA  AB T2Y 0N7</td>\n",
       "      <td>5</td>\n",
       "      <td>4.5</td>\n",
       "      <td>9031</td>\n",
       "      <td>Diamond Realty &amp; Associates Ltd.</td>\n",
       "    </tr>\n",
       "    <tr>\n",
       "      <th>3149</th>\n",
       "      <td>300 37 Ave SW</td>\n",
       "      <td>9800000</td>\n",
       "      <td>CA  AB T3E 2P8</td>\n",
       "      <td>3</td>\n",
       "      <td>3.5</td>\n",
       "      <td>7049</td>\n",
       "      <td>Real Estate Professionals Inc.</td>\n",
       "    </tr>\n",
       "    <tr>\n",
       "      <th>2799</th>\n",
       "      <td>100 10A St NW #802</td>\n",
       "      <td>10000000</td>\n",
       "      <td>CA  AB T2N4T3</td>\n",
       "      <td>3</td>\n",
       "      <td>3.5</td>\n",
       "      <td>4715</td>\n",
       "      <td>Purpose Realty</td>\n",
       "    </tr>\n",
       "  </tbody>\n",
       "</table>\n",
       "<p>3360 rows × 7 columns</p>\n",
       "</div>"
      ],
      "text/plain": [
       "                      Address  Price ($)     Description  Bedroom (No.)  \\\n",
       "2341     5200 44 Ave NE #1353     141900  CA  AB T1Y 7L4              1   \n",
       "649        4512 75 St NW #102     143900   CA  AB T3B2M9              1   \n",
       "2306        116 3 Ave SE #907     145900  CA  AB T2G 5A9              2   \n",
       "3122        1820 9 St SW #303     149000   CA  AB T2T3C3              1   \n",
       "3124              1820 9 #306     149000   CA  AB T2T3C3              1   \n",
       "...                       ...        ...             ...            ...   \n",
       "3358       738 1 Ave SW #1307    7988000  CA  AB T2P 5G8              2   \n",
       "3067  40 Eagle Ridge Place SW    7995000  CA  AB T2V 2V8              5   \n",
       "3356          4111 162 Ave SW    8000000  CA  AB T2Y 0N7              5   \n",
       "3149            300 37 Ave SW    9800000  CA  AB T3E 2P8              3   \n",
       "2799       100 10A St NW #802   10000000   CA  AB T2N4T3              3   \n",
       "\n",
       "      Bath Type  Size (sq.ft)                   Real Estate Coy  \n",
       "2341        1.0           309         RE/MAX Landan Real Estate  \n",
       "649         1.0           504    Real Estate Professionals Inc.  \n",
       "2306        1.0           666                       Real Broker  \n",
       "3122        1.0           475                First Place Realty  \n",
       "3124        1.0           471                First Place Realty  \n",
       "...         ...           ...                               ...  \n",
       "3358        2.5          3544      RE/MAX Real Estate (Central)  \n",
       "3067        5.5          5434     Century 21 Bamber Realty Ltd.  \n",
       "3356        4.5          9031  Diamond Realty & Associates Ltd.  \n",
       "3149        3.5          7049    Real Estate Professionals Inc.  \n",
       "2799        3.5          4715                    Purpose Realty  \n",
       "\n",
       "[3360 rows x 7 columns]"
      ]
     },
     "execution_count": 39,
     "metadata": {},
     "output_type": "execute_result"
    }
   ],
   "source": [
    "df.sort_values(by='Price ($)')"
   ]
  },
  {
   "cell_type": "code",
   "execution_count": 40,
   "id": "f5591998",
   "metadata": {},
   "outputs": [
    {
     "data": {
      "text/html": [
       "<div>\n",
       "<style scoped>\n",
       "    .dataframe tbody tr th:only-of-type {\n",
       "        vertical-align: middle;\n",
       "    }\n",
       "\n",
       "    .dataframe tbody tr th {\n",
       "        vertical-align: top;\n",
       "    }\n",
       "\n",
       "    .dataframe thead th {\n",
       "        text-align: right;\n",
       "    }\n",
       "</style>\n",
       "<table border=\"1\" class=\"dataframe\">\n",
       "  <thead>\n",
       "    <tr style=\"text-align: right;\">\n",
       "      <th></th>\n",
       "      <th>Address</th>\n",
       "      <th>Price ($)</th>\n",
       "      <th>Description</th>\n",
       "      <th>Bedroom (No.)</th>\n",
       "      <th>Bath Type</th>\n",
       "      <th>Size (sq.ft)</th>\n",
       "      <th>Real Estate Coy</th>\n",
       "    </tr>\n",
       "  </thead>\n",
       "  <tbody>\n",
       "    <tr>\n",
       "      <th>1679</th>\n",
       "      <td>550 Riverfront Ave SE #1604</td>\n",
       "      <td>300000</td>\n",
       "      <td>CA  AB T2G 1E5</td>\n",
       "      <td>1</td>\n",
       "      <td>1.0</td>\n",
       "      <td>499</td>\n",
       "      <td>RE/MAX Real Estate (Central)</td>\n",
       "    </tr>\n",
       "    <tr>\n",
       "      <th>1529</th>\n",
       "      <td>181 Skyview Ranch Manor NE #3404</td>\n",
       "      <td>234900</td>\n",
       "      <td>CA  AB T3N 0V2</td>\n",
       "      <td>1</td>\n",
       "      <td>1.0</td>\n",
       "      <td>589</td>\n",
       "      <td>RE/MAX House Of Real Estate</td>\n",
       "    </tr>\n",
       "    <tr>\n",
       "      <th>3145</th>\n",
       "      <td>1820 9 St SW #203</td>\n",
       "      <td>149000</td>\n",
       "      <td>CA  AB t2t3c3</td>\n",
       "      <td>1</td>\n",
       "      <td>1.0</td>\n",
       "      <td>475</td>\n",
       "      <td>First Place Realty</td>\n",
       "    </tr>\n",
       "    <tr>\n",
       "      <th>2667</th>\n",
       "      <td>208 Holy Cross #105</td>\n",
       "      <td>374900</td>\n",
       "      <td>CA  AB T2S 3G3</td>\n",
       "      <td>1</td>\n",
       "      <td>1.0</td>\n",
       "      <td>766</td>\n",
       "      <td>RE/MAX Real Estate (Central)</td>\n",
       "    </tr>\n",
       "    <tr>\n",
       "      <th>1534</th>\n",
       "      <td>1234 5 Ave NW #2503</td>\n",
       "      <td>209900</td>\n",
       "      <td>CA  AB T2N 0R9</td>\n",
       "      <td>1</td>\n",
       "      <td>1.0</td>\n",
       "      <td>307</td>\n",
       "      <td>Royal Lepage Benchmark</td>\n",
       "    </tr>\n",
       "    <tr>\n",
       "      <th>...</th>\n",
       "      <td>...</td>\n",
       "      <td>...</td>\n",
       "      <td>...</td>\n",
       "      <td>...</td>\n",
       "      <td>...</td>\n",
       "      <td>...</td>\n",
       "      <td>...</td>\n",
       "    </tr>\n",
       "    <tr>\n",
       "      <th>2646</th>\n",
       "      <td>4626 - 4628 4 St NW</td>\n",
       "      <td>998690</td>\n",
       "      <td>CA  AB T2K 1A2</td>\n",
       "      <td>8</td>\n",
       "      <td>4.0</td>\n",
       "      <td>1645</td>\n",
       "      <td>Argent Realty &amp; Management Ltd.</td>\n",
       "    </tr>\n",
       "    <tr>\n",
       "      <th>3194</th>\n",
       "      <td>1425 18 Ave NW</td>\n",
       "      <td>1799000</td>\n",
       "      <td>CA  AB T2M 0W7</td>\n",
       "      <td>8</td>\n",
       "      <td>8.0</td>\n",
       "      <td>2962</td>\n",
       "      <td>Stratten Gates Real Estate Ltd.</td>\n",
       "    </tr>\n",
       "    <tr>\n",
       "      <th>2162</th>\n",
       "      <td>2339 Munro Dr NE</td>\n",
       "      <td>949800</td>\n",
       "      <td>CA  AB T2E 5Z1</td>\n",
       "      <td>8</td>\n",
       "      <td>4.0</td>\n",
       "      <td>2201</td>\n",
       "      <td>Real Broker</td>\n",
       "    </tr>\n",
       "    <tr>\n",
       "      <th>2683</th>\n",
       "      <td>19 Elveden Place SW</td>\n",
       "      <td>3700000</td>\n",
       "      <td>CA  AB T3H 0L1</td>\n",
       "      <td>8</td>\n",
       "      <td>7.5</td>\n",
       "      <td>8179</td>\n",
       "      <td>Real Broker</td>\n",
       "    </tr>\n",
       "    <tr>\n",
       "      <th>1830</th>\n",
       "      <td>7717&amp;7719 41 Ave NW</td>\n",
       "      <td>880000</td>\n",
       "      <td>CA  AB T3R 1S6</td>\n",
       "      <td>10</td>\n",
       "      <td>4.0</td>\n",
       "      <td>2054</td>\n",
       "      <td>Homecare Realty Ltd.</td>\n",
       "    </tr>\n",
       "  </tbody>\n",
       "</table>\n",
       "<p>3360 rows × 7 columns</p>\n",
       "</div>"
      ],
      "text/plain": [
       "                               Address  Price ($)     Description  \\\n",
       "1679       550 Riverfront Ave SE #1604     300000  CA  AB T2G 1E5   \n",
       "1529  181 Skyview Ranch Manor NE #3404     234900  CA  AB T3N 0V2   \n",
       "3145                 1820 9 St SW #203     149000   CA  AB t2t3c3   \n",
       "2667               208 Holy Cross #105     374900  CA  AB T2S 3G3   \n",
       "1534               1234 5 Ave NW #2503     209900  CA  AB T2N 0R9   \n",
       "...                                ...        ...             ...   \n",
       "2646               4626 - 4628 4 St NW     998690  CA  AB T2K 1A2   \n",
       "3194                    1425 18 Ave NW    1799000  CA  AB T2M 0W7   \n",
       "2162                  2339 Munro Dr NE     949800  CA  AB T2E 5Z1   \n",
       "2683               19 Elveden Place SW    3700000  CA  AB T3H 0L1   \n",
       "1830               7717&7719 41 Ave NW     880000  CA  AB T3R 1S6   \n",
       "\n",
       "      Bedroom (No.)  Bath Type  Size (sq.ft)                  Real Estate Coy  \n",
       "1679              1        1.0           499     RE/MAX Real Estate (Central)  \n",
       "1529              1        1.0           589      RE/MAX House Of Real Estate  \n",
       "3145              1        1.0           475               First Place Realty  \n",
       "2667              1        1.0           766     RE/MAX Real Estate (Central)  \n",
       "1534              1        1.0           307           Royal Lepage Benchmark  \n",
       "...             ...        ...           ...                              ...  \n",
       "2646              8        4.0          1645  Argent Realty & Management Ltd.  \n",
       "3194              8        8.0          2962  Stratten Gates Real Estate Ltd.  \n",
       "2162              8        4.0          2201                      Real Broker  \n",
       "2683              8        7.5          8179                      Real Broker  \n",
       "1830             10        4.0          2054             Homecare Realty Ltd.  \n",
       "\n",
       "[3360 rows x 7 columns]"
      ]
     },
     "execution_count": 40,
     "metadata": {},
     "output_type": "execute_result"
    }
   ],
   "source": [
    "df.sort_values(by='Bedroom (No.)')"
   ]
  },
  {
   "cell_type": "code",
   "execution_count": 41,
   "id": "41c7afc5",
   "metadata": {},
   "outputs": [
    {
     "data": {
      "text/html": [
       "<div>\n",
       "<style scoped>\n",
       "    .dataframe tbody tr th:only-of-type {\n",
       "        vertical-align: middle;\n",
       "    }\n",
       "\n",
       "    .dataframe tbody tr th {\n",
       "        vertical-align: top;\n",
       "    }\n",
       "\n",
       "    .dataframe thead th {\n",
       "        text-align: right;\n",
       "    }\n",
       "</style>\n",
       "<table border=\"1\" class=\"dataframe\">\n",
       "  <thead>\n",
       "    <tr style=\"text-align: right;\">\n",
       "      <th></th>\n",
       "      <th>Address</th>\n",
       "      <th>Price ($)</th>\n",
       "      <th>Description</th>\n",
       "      <th>Bedroom (No.)</th>\n",
       "      <th>Bath Type</th>\n",
       "      <th>Size (sq.ft)</th>\n",
       "      <th>Real Estate Coy</th>\n",
       "    </tr>\n",
       "  </thead>\n",
       "  <tbody>\n",
       "    <tr>\n",
       "      <th>1679</th>\n",
       "      <td>550 Riverfront Ave SE #1604</td>\n",
       "      <td>300000</td>\n",
       "      <td>CA  AB T2G 1E5</td>\n",
       "      <td>1</td>\n",
       "      <td>1.0</td>\n",
       "      <td>499</td>\n",
       "      <td>RE/MAX Real Estate (Central)</td>\n",
       "    </tr>\n",
       "    <tr>\n",
       "      <th>654</th>\n",
       "      <td>11811 Lake Fraser Dr SE #1608</td>\n",
       "      <td>249900</td>\n",
       "      <td>CA  AB T2J 7J4</td>\n",
       "      <td>2</td>\n",
       "      <td>1.0</td>\n",
       "      <td>755</td>\n",
       "      <td>Listed by Jamie Newton</td>\n",
       "    </tr>\n",
       "    <tr>\n",
       "      <th>2032</th>\n",
       "      <td>823 1 Ave NW #103</td>\n",
       "      <td>225000</td>\n",
       "      <td>CA  AB T2N 0A4</td>\n",
       "      <td>1</td>\n",
       "      <td>1.0</td>\n",
       "      <td>531</td>\n",
       "      <td>2% Realty</td>\n",
       "    </tr>\n",
       "    <tr>\n",
       "      <th>659</th>\n",
       "      <td>200 Seton Circle SE #5302</td>\n",
       "      <td>289900</td>\n",
       "      <td>CA  AB T3M 3V3</td>\n",
       "      <td>1</td>\n",
       "      <td>1.0</td>\n",
       "      <td>543</td>\n",
       "      <td>Real Estate Professionals Inc.</td>\n",
       "    </tr>\n",
       "    <tr>\n",
       "      <th>2020</th>\n",
       "      <td>310 12 Ave SW #2903</td>\n",
       "      <td>363000</td>\n",
       "      <td>CA  AB T2R 1B5</td>\n",
       "      <td>1</td>\n",
       "      <td>1.0</td>\n",
       "      <td>524</td>\n",
       "      <td>Real Estate Professionals Inc.</td>\n",
       "    </tr>\n",
       "    <tr>\n",
       "      <th>...</th>\n",
       "      <td>...</td>\n",
       "      <td>...</td>\n",
       "      <td>...</td>\n",
       "      <td>...</td>\n",
       "      <td>...</td>\n",
       "      <td>...</td>\n",
       "      <td>...</td>\n",
       "    </tr>\n",
       "    <tr>\n",
       "      <th>3299</th>\n",
       "      <td>1420 20 St NW</td>\n",
       "      <td>2599999</td>\n",
       "      <td>CA  AB T2N 2K6</td>\n",
       "      <td>6</td>\n",
       "      <td>7.5</td>\n",
       "      <td>4454</td>\n",
       "      <td>Urban-Realty.Ca</td>\n",
       "    </tr>\n",
       "    <tr>\n",
       "      <th>2683</th>\n",
       "      <td>19 Elveden Place SW</td>\n",
       "      <td>3700000</td>\n",
       "      <td>CA  AB T3H 0L1</td>\n",
       "      <td>8</td>\n",
       "      <td>7.5</td>\n",
       "      <td>8179</td>\n",
       "      <td>Real Broker</td>\n",
       "    </tr>\n",
       "    <tr>\n",
       "      <th>3225</th>\n",
       "      <td>1611 21 A St NW</td>\n",
       "      <td>2299000</td>\n",
       "      <td>CA  AB T2N 2M3</td>\n",
       "      <td>6</td>\n",
       "      <td>7.5</td>\n",
       "      <td>4167</td>\n",
       "      <td>RE/MAX House Of Real Estate</td>\n",
       "    </tr>\n",
       "    <tr>\n",
       "      <th>3113</th>\n",
       "      <td>4308 Coronation Dr SW</td>\n",
       "      <td>4998000</td>\n",
       "      <td>CA  AB T2S 1M2</td>\n",
       "      <td>5</td>\n",
       "      <td>7.5</td>\n",
       "      <td>6143</td>\n",
       "      <td>Tink</td>\n",
       "    </tr>\n",
       "    <tr>\n",
       "      <th>3194</th>\n",
       "      <td>1425 18 Ave NW</td>\n",
       "      <td>1799000</td>\n",
       "      <td>CA  AB T2M 0W7</td>\n",
       "      <td>8</td>\n",
       "      <td>8.0</td>\n",
       "      <td>2962</td>\n",
       "      <td>Stratten Gates Real Estate Ltd.</td>\n",
       "    </tr>\n",
       "  </tbody>\n",
       "</table>\n",
       "<p>3360 rows × 7 columns</p>\n",
       "</div>"
      ],
      "text/plain": [
       "                            Address  Price ($)     Description  Bedroom (No.)  \\\n",
       "1679    550 Riverfront Ave SE #1604     300000  CA  AB T2G 1E5              1   \n",
       "654   11811 Lake Fraser Dr SE #1608     249900  CA  AB T2J 7J4              2   \n",
       "2032              823 1 Ave NW #103     225000  CA  AB T2N 0A4              1   \n",
       "659       200 Seton Circle SE #5302     289900  CA  AB T3M 3V3              1   \n",
       "2020            310 12 Ave SW #2903     363000  CA  AB T2R 1B5              1   \n",
       "...                             ...        ...             ...            ...   \n",
       "3299                  1420 20 St NW    2599999  CA  AB T2N 2K6              6   \n",
       "2683            19 Elveden Place SW    3700000  CA  AB T3H 0L1              8   \n",
       "3225                1611 21 A St NW    2299000  CA  AB T2N 2M3              6   \n",
       "3113          4308 Coronation Dr SW    4998000  CA  AB T2S 1M2              5   \n",
       "3194                 1425 18 Ave NW    1799000  CA  AB T2M 0W7              8   \n",
       "\n",
       "      Bath Type  Size (sq.ft)                  Real Estate Coy  \n",
       "1679        1.0           499     RE/MAX Real Estate (Central)  \n",
       "654         1.0           755           Listed by Jamie Newton  \n",
       "2032        1.0           531                        2% Realty  \n",
       "659         1.0           543   Real Estate Professionals Inc.  \n",
       "2020        1.0           524   Real Estate Professionals Inc.  \n",
       "...         ...           ...                              ...  \n",
       "3299        7.5          4454                  Urban-Realty.Ca  \n",
       "2683        7.5          8179                      Real Broker  \n",
       "3225        7.5          4167      RE/MAX House Of Real Estate  \n",
       "3113        7.5          6143                             Tink  \n",
       "3194        8.0          2962  Stratten Gates Real Estate Ltd.  \n",
       "\n",
       "[3360 rows x 7 columns]"
      ]
     },
     "execution_count": 41,
     "metadata": {},
     "output_type": "execute_result"
    }
   ],
   "source": [
    "df.sort_values(by='Bath Type')"
   ]
  },
  {
   "cell_type": "code",
   "execution_count": 42,
   "id": "c2a0766a",
   "metadata": {},
   "outputs": [
    {
     "data": {
      "text/html": [
       "<div>\n",
       "<style scoped>\n",
       "    .dataframe tbody tr th:only-of-type {\n",
       "        vertical-align: middle;\n",
       "    }\n",
       "\n",
       "    .dataframe tbody tr th {\n",
       "        vertical-align: top;\n",
       "    }\n",
       "\n",
       "    .dataframe thead th {\n",
       "        text-align: right;\n",
       "    }\n",
       "</style>\n",
       "<table border=\"1\" class=\"dataframe\">\n",
       "  <thead>\n",
       "    <tr style=\"text-align: right;\">\n",
       "      <th></th>\n",
       "      <th>Price ($)</th>\n",
       "      <th>Bedroom (No.)</th>\n",
       "      <th>Bath Type</th>\n",
       "      <th>Size (sq.ft)</th>\n",
       "    </tr>\n",
       "  </thead>\n",
       "  <tbody>\n",
       "    <tr>\n",
       "      <th>count</th>\n",
       "      <td>3.360000e+03</td>\n",
       "      <td>3360.000000</td>\n",
       "      <td>3360.000000</td>\n",
       "      <td>3360.000000</td>\n",
       "    </tr>\n",
       "    <tr>\n",
       "      <th>mean</th>\n",
       "      <td>7.500648e+05</td>\n",
       "      <td>3.125000</td>\n",
       "      <td>2.479167</td>\n",
       "      <td>1558.815179</td>\n",
       "    </tr>\n",
       "    <tr>\n",
       "      <th>std</th>\n",
       "      <td>6.447619e+05</td>\n",
       "      <td>1.349087</td>\n",
       "      <td>1.023546</td>\n",
       "      <td>1056.424307</td>\n",
       "    </tr>\n",
       "    <tr>\n",
       "      <th>min</th>\n",
       "      <td>1.419000e+05</td>\n",
       "      <td>1.000000</td>\n",
       "      <td>1.000000</td>\n",
       "      <td>307.000000</td>\n",
       "    </tr>\n",
       "    <tr>\n",
       "      <th>25%</th>\n",
       "      <td>3.990000e+05</td>\n",
       "      <td>2.000000</td>\n",
       "      <td>2.000000</td>\n",
       "      <td>933.000000</td>\n",
       "    </tr>\n",
       "    <tr>\n",
       "      <th>50%</th>\n",
       "      <td>6.199000e+05</td>\n",
       "      <td>3.000000</td>\n",
       "      <td>2.500000</td>\n",
       "      <td>1352.000000</td>\n",
       "    </tr>\n",
       "    <tr>\n",
       "      <th>75%</th>\n",
       "      <td>8.499220e+05</td>\n",
       "      <td>4.000000</td>\n",
       "      <td>3.500000</td>\n",
       "      <td>2023.250000</td>\n",
       "    </tr>\n",
       "    <tr>\n",
       "      <th>max</th>\n",
       "      <td>1.000000e+07</td>\n",
       "      <td>10.000000</td>\n",
       "      <td>8.000000</td>\n",
       "      <td>39654.000000</td>\n",
       "    </tr>\n",
       "  </tbody>\n",
       "</table>\n",
       "</div>"
      ],
      "text/plain": [
       "          Price ($)  Bedroom (No.)    Bath Type  Size (sq.ft)\n",
       "count  3.360000e+03    3360.000000  3360.000000   3360.000000\n",
       "mean   7.500648e+05       3.125000     2.479167   1558.815179\n",
       "std    6.447619e+05       1.349087     1.023546   1056.424307\n",
       "min    1.419000e+05       1.000000     1.000000    307.000000\n",
       "25%    3.990000e+05       2.000000     2.000000    933.000000\n",
       "50%    6.199000e+05       3.000000     2.500000   1352.000000\n",
       "75%    8.499220e+05       4.000000     3.500000   2023.250000\n",
       "max    1.000000e+07      10.000000     8.000000  39654.000000"
      ]
     },
     "execution_count": 42,
     "metadata": {},
     "output_type": "execute_result"
    }
   ],
   "source": [
    "df.describe()"
   ]
  },
  {
   "cell_type": "code",
   "execution_count": 43,
   "id": "076d74a7",
   "metadata": {},
   "outputs": [
    {
     "data": {
      "text/plain": [
       "<Axes: xlabel='Bath Type', ylabel='Bedroom (No.)'>"
      ]
     },
     "execution_count": 43,
     "metadata": {},
     "output_type": "execute_result"
    },
    {
     "data": {
      "image/png": "[encoded data removed]",
      "text/plain": [
       "<Figure size 640x480 with 1 Axes>"
      ]
     },
     "metadata": {},
     "output_type": "display_data"
    }
   ],
   "source": [
    "sns.boxplot(data=df, x='Bath Type', y='Bedroom (No.)')"
   ]
  },
  {
   "cell_type": "code",
   "execution_count": 44,
   "id": "2bf4ef83",
   "metadata": {},
   "outputs": [
    {
     "data": {
      "text/plain": [
       "<Axes: xlabel='Bedroom (No.)'>"
      ]
     },
     "execution_count": 44,
     "metadata": {},
     "output_type": "execute_result"
    },
    {
     "data": {
      "image/png": "[encoded data removed]",
      "text/plain": [
       "<Figure size 640x480 with 1 Axes>"
      ]
     },
     "metadata": {},
     "output_type": "display_data"
    }
   ],
   "source": [
    "sns.boxplot(data=df, x='Bedroom (No.)')"
   ]
  },
  {
   "cell_type": "code",
   "execution_count": 45,
   "id": "9d2e34a4",
   "metadata": {},
   "outputs": [
    {
     "data": {
      "text/plain": [
       "<Axes: xlabel='Bath Type'>"
      ]
     },
     "execution_count": 45,
     "metadata": {},
     "output_type": "execute_result"
    },
    {
     "data": {
      "image/png": "[encoded data removed]",
      "text/plain": [
       "<Figure size 640x480 with 1 Axes>"
      ]
     },
     "metadata": {},
     "output_type": "display_data"
    }
   ],
   "source": [
    "sns.boxplot(data=df, x='Bath Type')"
   ]
  },
  {
   "cell_type": "code",
   "execution_count": 46,
   "id": "4617bb97",
   "metadata": {},
   "outputs": [
    {
     "data": {
      "text/plain": [
       "<Axes: xlabel='Price ($)'>"
      ]
     },
     "execution_count": 46,
     "metadata": {},
     "output_type": "execute_result"
    },
    {
     "data": {
      "image/png": "[encoded data removed]",
      "text/plain": [
       "<Figure size 640x480 with 1 Axes>"
      ]
     },
     "metadata": {},
     "output_type": "display_data"
    }
   ],
   "source": [
    "sns.boxplot(data=df, x='Price ($)')"
   ]
  },
  {
   "cell_type": "code",
   "execution_count": 47,
   "id": "4a4fbf37",
   "metadata": {},
   "outputs": [
    {
     "data": {
      "text/html": [
       "<div>\n",
       "<style scoped>\n",
       "    .dataframe tbody tr th:only-of-type {\n",
       "        vertical-align: middle;\n",
       "    }\n",
       "\n",
       "    .dataframe tbody tr th {\n",
       "        vertical-align: top;\n",
       "    }\n",
       "\n",
       "    .dataframe thead th {\n",
       "        text-align: right;\n",
       "    }\n",
       "</style>\n",
       "<table border=\"1\" class=\"dataframe\">\n",
       "  <thead>\n",
       "    <tr style=\"text-align: right;\">\n",
       "      <th></th>\n",
       "      <th>Address</th>\n",
       "      <th>Price ($)</th>\n",
       "      <th>Description</th>\n",
       "      <th>Bedroom (No.)</th>\n",
       "      <th>Bath Type</th>\n",
       "      <th>Size (sq.ft)</th>\n",
       "      <th>Real Estate Coy</th>\n",
       "    </tr>\n",
       "  </thead>\n",
       "  <tbody>\n",
       "    <tr>\n",
       "      <th>0</th>\n",
       "      <td>3704 42 St SW</td>\n",
       "      <td>979999</td>\n",
       "      <td>CA  AB T3E 3N1</td>\n",
       "      <td>4</td>\n",
       "      <td>3.5</td>\n",
       "      <td>1813</td>\n",
       "      <td>Century 21 Bravo Realty</td>\n",
       "    </tr>\n",
       "  </tbody>\n",
       "</table>\n",
       "</div>"
      ],
      "text/plain": [
       "         Address  Price ($)     Description  Bedroom (No.)  Bath Type  \\\n",
       "0  3704 42 St SW     979999  CA  AB T3E 3N1              4        3.5   \n",
       "\n",
       "   Size (sq.ft)          Real Estate Coy  \n",
       "0          1813  Century 21 Bravo Realty  "
      ]
     },
     "execution_count": 47,
     "metadata": {},
     "output_type": "execute_result"
    }
   ],
   "source": [
    "df.head(1)"
   ]
  },
  {
   "cell_type": "code",
   "execution_count": 48,
   "id": "a12dd511",
   "metadata": {},
   "outputs": [
    {
     "data": {
      "text/plain": [
       "0    Cir Realty\n",
       "Name: Real Estate Coy, dtype: object"
      ]
     },
     "execution_count": 48,
     "metadata": {},
     "output_type": "execute_result"
    }
   ],
   "source": [
    "df['Real Estate Coy'].mode()"
   ]
  },
  {
   "cell_type": "code",
   "execution_count": 49,
   "id": "279ff435",
   "metadata": {},
   "outputs": [
    {
     "data": {
      "text/plain": [
       "Address            288\n",
       "Price ($)          288\n",
       "Description        288\n",
       "Bedroom (No.)      288\n",
       "Bath Type          288\n",
       "Size (sq.ft)       288\n",
       "Real Estate Coy    288\n",
       "dtype: int64"
      ]
     },
     "execution_count": 49,
     "metadata": {},
     "output_type": "execute_result"
    }
   ],
   "source": [
    "df[df['Real Estate Coy'] == 'Cir Realty'].count()"
   ]
  },
  {
   "cell_type": "code",
   "execution_count": 50,
   "id": "2848499d",
   "metadata": {},
   "outputs": [
    {
     "data": {
      "text/plain": [
       "Cir Realty                      288\n",
       "Exp Realty                      247\n",
       "RE/MAX Real Estate (Central)    227\n",
       "Real Broker                     206\n",
       "RE/MAX House Of Real Estate     163\n",
       "Name: Real Estate Coy, dtype: int64"
      ]
     },
     "execution_count": 50,
     "metadata": {},
     "output_type": "execute_result"
    }
   ],
   "source": [
    "df['Real Estate Coy'].value_counts().head()"
   ]
  },
  {
   "cell_type": "code",
   "execution_count": 51,
   "id": "0af0edb5",
   "metadata": {},
   "outputs": [
    {
     "data": {
      "text/plain": [
       "2     853\n",
       "4     840\n",
       "3     819\n",
       "1     364\n",
       "5     335\n",
       "6     116\n",
       "7      24\n",
       "8       8\n",
       "10      1\n",
       "Name: Bedroom (No.), dtype: int64"
      ]
     },
     "execution_count": 51,
     "metadata": {},
     "output_type": "execute_result"
    }
   ],
   "source": [
    "df['Bedroom (No.)'].value_counts()"
   ]
  },
  {
   "cell_type": "code",
   "execution_count": 52,
   "id": "1dc15f1e",
   "metadata": {},
   "outputs": [
    {
     "data": {
      "text/plain": [
       "2.5    745\n",
       "2.0    741\n",
       "3.5    719\n",
       "1.0    545\n",
       "3.0    198\n",
       "1.5    185\n",
       "4.5    117\n",
       "4.0     62\n",
       "5.5     22\n",
       "5.0     10\n",
       "6.5      6\n",
       "6.0      5\n",
       "7.5      4\n",
       "8.0      1\n",
       "Name: Bath Type, dtype: int64"
      ]
     },
     "execution_count": 52,
     "metadata": {},
     "output_type": "execute_result"
    }
   ],
   "source": [
    "df['Bath Type'].value_counts()"
   ]
  },
  {
   "cell_type": "code",
   "execution_count": 53,
   "id": "1e2c5f46",
   "metadata": {},
   "outputs": [
    {
     "data": {
      "text/plain": [
       "2     0.253869\n",
       "4     0.250000\n",
       "3     0.243750\n",
       "1     0.108333\n",
       "5     0.099702\n",
       "6     0.034524\n",
       "7     0.007143\n",
       "8     0.002381\n",
       "10    0.000298\n",
       "Name: Bedroom (No.), dtype: float64"
      ]
     },
     "execution_count": 53,
     "metadata": {},
     "output_type": "execute_result"
    }
   ],
   "source": [
    "df_prbr1 = (df['Bedroom (No.)'].value_counts())/(df['Bedroom (No.)'].count())\n",
    "df_prbr1"
   ]
  },
  {
   "cell_type": "code",
   "execution_count": 54,
   "id": "40650e6b",
   "metadata": {},
   "outputs": [
    {
     "data": {
      "text/plain": [
       "2     25.386905\n",
       "4     25.000000\n",
       "3     24.375000\n",
       "1     10.833333\n",
       "5      9.970238\n",
       "6      3.452381\n",
       "7      0.714286\n",
       "8      0.238095\n",
       "10     0.029762\n",
       "Name: Bedroom (No.), dtype: float64"
      ]
     },
     "execution_count": 54,
     "metadata": {},
     "output_type": "execute_result"
    }
   ],
   "source": [
    "df_prbr2 = df_prbr1 * 100\n",
    "df_prbr2"
   ]
  },
  {
   "cell_type": "code",
   "execution_count": 55,
   "id": "c7a54aa6",
   "metadata": {},
   "outputs": [
    {
     "data": {
      "text/plain": [
       "2.5    0.221726\n",
       "2.0    0.220536\n",
       "3.5    0.213988\n",
       "1.0    0.162202\n",
       "3.0    0.058929\n",
       "1.5    0.055060\n",
       "4.5    0.034821\n",
       "4.0    0.018452\n",
       "5.5    0.006548\n",
       "5.0    0.002976\n",
       "6.5    0.001786\n",
       "6.0    0.001488\n",
       "7.5    0.001190\n",
       "8.0    0.000298\n",
       "Name: Bath Type, dtype: float64"
      ]
     },
     "execution_count": 55,
     "metadata": {},
     "output_type": "execute_result"
    }
   ],
   "source": [
    "df_prbt1 = (df['Bath Type'].value_counts())/(df['Bath Type'].count())\n",
    "df_prbt1"
   ]
  },
  {
   "cell_type": "code",
   "execution_count": 56,
   "id": "8f27eca8",
   "metadata": {},
   "outputs": [
    {
     "data": {
      "text/plain": [
       "2.5    22.172619\n",
       "2.0    22.053571\n",
       "3.5    21.398810\n",
       "1.0    16.220238\n",
       "3.0     5.892857\n",
       "1.5     5.505952\n",
       "4.5     3.482143\n",
       "4.0     1.845238\n",
       "5.5     0.654762\n",
       "5.0     0.297619\n",
       "6.5     0.178571\n",
       "6.0     0.148810\n",
       "7.5     0.119048\n",
       "8.0     0.029762\n",
       "Name: Bath Type, dtype: float64"
      ]
     },
     "execution_count": 56,
     "metadata": {},
     "output_type": "execute_result"
    }
   ],
   "source": [
    "df_prbt2 = df_prbt1 * 100\n",
    "df_prbt2"
   ]
  },
  {
   "cell_type": "code",
   "execution_count": 57,
   "id": "9f6119c5",
   "metadata": {},
   "outputs": [
    {
     "data": {
      "text/plain": [
       "100.0"
      ]
     },
     "execution_count": 57,
     "metadata": {},
     "output_type": "execute_result"
    }
   ],
   "source": [
    "df_prbr2.sum()"
   ]
  },
  {
   "cell_type": "code",
   "execution_count": 58,
   "id": "33ad3ff3",
   "metadata": {},
   "outputs": [
    {
     "data": {
      "text/plain": [
       "100.0"
      ]
     },
     "execution_count": 58,
     "metadata": {},
     "output_type": "execute_result"
    }
   ],
   "source": [
    "df_prbt2.sum()"
   ]
  },
  {
   "cell_type": "code",
   "execution_count": null,
   "id": "57ca0e3c",
   "metadata": {},
   "outputs": [],
   "source": []
  }
 ],
 "metadata": {
  "kernelspec": {
   "display_name": "Python 3 (ipykernel)",
   "language": "python",
   "name": "python3"
  },
  "language_info": {
   "codemirror_mode": {
    "name": "ipython",
    "version": 3
   },
   "file_extension": ".py",
   "mimetype": "text/x-python",
   "name": "python",
   "nbconvert_exporter": "python",
   "pygments_lexer": "ipython3",
   "version": "3.11.4"
  }
 },
 "nbformat": 4,
 "nbformat_minor": 5
}
